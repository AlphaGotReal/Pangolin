{
 "cells": [
  {
   "cell_type": "code",
   "execution_count": 2,
   "metadata": {},
   "outputs": [],
   "source": [
    "from sympy import *"
   ]
  },
  {
   "cell_type": "markdown",
   "metadata": {},
   "source": [
    "# Vertex transform maths and Computer Vision\n",
    "OpenGL and similar graphics libraries don't work with projection matrices that\n",
    "directly map vertices to pixels, but go through a few different transforms to\n",
    "aide processing. In the OpenGL specification, the coordinate systems are\n",
    "typically named World, Eye, Clip, NDC (normalized device coordinates) and\n",
    "Window.\n",
    "\n",
    "As computer vision practitioners, World is familiar, Eye is what we would often\n",
    "call Camera, and Window is more or less image space pixels (with some caveats).\n",
    "The purpose of these coordinate systems is to aide in geometry culling and\n",
    "remapping depth values for the purposes of getting more our of finite computer\n",
    "numerical precision when testing which geometry should be shown in front of each\n",
    "other.\n",
    "\n",
    "We'll introduce some new frames of reference which will allow us to interop with\n",
    "computer vision notation and also provide us with a uniform treatment of\n",
    "considering sub-views of images rendered with a combination of image space and\n",
    "scene space primitives"
   ]
  },
  {
   "cell_type": "markdown",
   "metadata": {},
   "source": [
    "### World coordinates:\n",
    "$P_w = (x,y,z,1)^T \\in R^4$ relative to world frame, homogeneous\n",
    "\n",
    "### Camera coordinates:\n",
    "$P_c = (x,y,z,1)^T \\in R^4$ relative to camera frame, homogeneous\n",
    "$$P_c = T_{cw} * P_w$$ \n",
    "\n",
    "### Calibrated coordinates:\n",
    "$P_cal = (z*u, z*v, z, 1)^T$ depth-scaled pixel units\n",
    "$$P_{cal} = \\text{makeK4}(K) * P_c$$\n",
    "\n",
    "### Pixel coordinates:\n",
    "$P_pix = (z*u, z*v, z*Z_ndc, z)$ pixel-unit homogeneous\n",
    "$$P_pix = \\text{makePerspectiveNearFar}(near,far) * P_cal$$\n",
    "\n",
    "### Clip coordinates:\n",
    "$P_clip = (z*X_ndc, z*Y_ndc, z*Z_ndc, z)$, X,Y scaled to [-1,1] interval\n",
    "$$P_clip = \\text{makeClip}(w,h) * P_pix$$\n",
    "\n",
    "Optionally, insert makeClipView(zoom,offset) for viewing transform in clip space\n",
    "P_clip = makeClipView(zoom,offset) * makeClip(w,h) *\n",
    "              makePerspectiveNearFar(near,far) * makeK4(K) * T_cw * P_w"
   ]
  },
  {
   "cell_type": "code",
   "execution_count": 31,
   "metadata": {},
   "outputs": [],
   "source": [
    "W,H,N,F,fu,fv,u0,v0,x = symbols(\"W,H,N,F,fu,fv,u0,v0,x\")\n",
    "T_ba = MatrixSymbol('Tba', 4, 4)\n",
    "P_a = MatrixSymbol('Pa', 4, 1)\n",
    "P_b = T_ba * P_a\n",
    "\n",
    "# Homogeneous Vision-style projection matrix\n",
    "def makeK4(K):\n",
    "    K4 = eye(4)\n",
    "    K4[0:3,0:3] = K\n",
    "    return K4\n",
    "\n",
    "# Perspective matrix which copies .z into .w for later homogenous division, and\n",
    "# scales .z into ndc depth range [-1, 1]. This is not the GL Projection matrix,\n",
    "# which also would include mapping .x and .y into ndc range.\n",
    "#     * +z is forward\n",
    "#     * z_ndc=-1 maps to near plane\n",
    "#     * z_ndc=+1 maps to far plane\n",
    "#     * near and far should be same sign (corresponding to positive or negative z-axis as forward)\n",
    "#     * far can be +/- oo (in which case limit is taken as far approaches oo)\n",
    "\n",
    "#     * NOTE: Because of the non-linearity of floating point, near,far precision\n",
    "#             isn't as trivial as you might think. Using an infinite far plane\n",
    "#             is actually better almost throughout the entire range, beside a\n",
    "#             tiny region on the near plane (nano-meters if the near plane is at\n",
    "#             a meter, according to paper cited below), because the densely\n",
    "#             represented region around (floating point) 0 is brought out into a\n",
    "#             more usable range.\n",
    "\n",
    "#   transforms (x,y, z,1) point in camera coordinates into \n",
    "#              (x,y,zn,z), where zn is ndc depth\n",
    "def makePerspectiveNearFar(near, far):\n",
    "    # https://terathon.com/gdc07_lengyel.pdf\n",
    "    # https://developer.nvidia.com/content/depth-precision-visualized\n",
    "    # http://www.geometry.caltech.edu/pubs/UD12.pdf\n",
    "    # \"Tightening the Precision of Perspective Rendering\" Upchurch and Desbrun\n",
    "    eps = 0\n",
    "    nofar = abs(far) is oo\n",
    "    P4 = eye(4)\n",
    "    P4[2,2] = sign(far) if nofar else (far+near) / (far - near)\n",
    "    P4[2,3] = -sign(far)*2*near if nofar else 2*far*near / (near - far)\n",
    "    P4[3,3] = 0\n",
    "    P4[3,2] = 1\n",
    "    return P4\n",
    "\n",
    "def makeOrthoNearFar(near,far):\n",
    "    # limits don't work to eliminate far for ortho matrix :(\n",
    "    P4 = eye(4)\n",
    "    P4[2,2] = 2/(far-near)\n",
    "    P4[2,3] = -(far+near) / (far-near)\n",
    "    return P4\n",
    "\n",
    "def makeZoomPan(scale, offset):\n",
    "    ZP4 = eye(4)\n",
    "    ZP4[0,0] = scale\n",
    "    ZP4[1,1] = scale\n",
    "    ZP4[0,3] = offset/scale\n",
    "    ZP4[1,3] = offset/scale\n",
    "    return ZP4\n",
    "\n",
    "# Maps .x and .y in pixel units (either discrete or continous convention) to\n",
    "# NDC [-1,1] interval.\n",
    "# For cont=false, assumes pixel-centered input, where (-0.5,-0.5) is top-left of\n",
    "# top-left pixel. For cont=true, (0,0) is top-left of top-left pixel\n",
    "def makeClipFromPixel(W, H, cont = false):\n",
    "    C4 = eye(4)\n",
    "    C4[0,0] = 2/W\n",
    "    C4[1,1] = 2/H\n",
    "    C4[0,3] = -1 if cont else -(1-1/W)\n",
    "    C4[1,3] = -1 if cont else -(1-1/H)\n",
    "    return C4\n",
    "\n",
    "# pre-multiply clip matrix to flip y top/bottom\n",
    "def makeClipFlip():\n",
    "    return diag(1,-1,1,1)\n",
    "\n",
    "# Performs homogeneous division by .w for final NDC coordinates in\n",
    "# [-1,-1,-1] to [+1,+1,+1] interval\n",
    "# Note - NDC is further transformed to window coordinates\n",
    "def toNdc(P_clip):\n",
    "    return P_clip[0:3] / P_clip[3]\n",
    "\n",
    "# Matrix maps NDC coordinates to Window coordinates given viewport\n",
    "def toWindowCoordinates(x0, y0, w, h):\n",
    "    pass"
   ]
  },
  {
   "cell_type": "markdown",
   "metadata": {},
   "source": [
    "## Demonstration of typical near=>far Projection and near=>oo projection"
   ]
  },
  {
   "cell_type": "code",
   "execution_count": 14,
   "metadata": {},
   "outputs": [
    {
     "data": {
      "text/plain": [
       "'K'"
      ]
     },
     "metadata": {},
     "output_type": "display_data"
    },
    {
     "data": {
      "text/latex": [
       "$\\displaystyle \\left[\\begin{matrix}fu & 0 & u_{0} & 0\\\\0 & fv & v_{0} & 0\\\\0 & 0 & 1 & 0\\\\0 & 0 & 0 & 1\\end{matrix}\\right]$"
      ],
      "text/plain": [
       "Matrix([\n",
       "[fu,  0, u0, 0],\n",
       "[ 0, fv, v0, 0],\n",
       "[ 0,  0,  1, 0],\n",
       "[ 0,  0,  0, 1]])"
      ]
     },
     "metadata": {},
     "output_type": "display_data"
    },
    {
     "data": {
      "text/plain": [
       "'Projection'"
      ]
     },
     "metadata": {},
     "output_type": "display_data"
    },
    {
     "data": {
      "text/latex": [
       "$\\displaystyle \\left[\\begin{matrix}1 & 0 & 0 & 0\\\\0 & 1 & 0 & 0\\\\0 & 0 & \\frac{F + N}{F - N} & \\frac{2 F N}{- F + N}\\\\0 & 0 & 1 & 0\\end{matrix}\\right]$"
      ],
      "text/plain": [
       "Matrix([\n",
       "[1, 0,               0,              0],\n",
       "[0, 1,               0,              0],\n",
       "[0, 0, (F + N)/(F - N), 2*F*N/(-F + N)],\n",
       "[0, 0,               1,              0]])"
      ]
     },
     "metadata": {},
     "output_type": "display_data"
    },
    {
     "data": {
      "text/latex": [
       "$\\displaystyle \\left[\\begin{matrix}\\frac{2 fu}{W} & 0 & -1 + \\frac{2 u_{0}}{W} + \\frac{1}{W} & 0\\\\0 & \\frac{2 fv}{H} & -1 + \\frac{2 v_{0}}{H} + \\frac{1}{H} & 0\\\\0 & 0 & \\frac{F + N}{F - N} & \\frac{2 F N}{- F + N}\\\\0 & 0 & 1 & 0\\end{matrix}\\right]$"
      ],
      "text/plain": [
       "Matrix([\n",
       "[2*fu/W,      0, -1 + 2*u0/W + 1/W,              0],\n",
       "[     0, 2*fv/H, -1 + 2*v0/H + 1/H,              0],\n",
       "[     0,      0,   (F + N)/(F - N), 2*F*N/(-F + N)],\n",
       "[     0,      0,                 1,              0]])"
      ]
     },
     "metadata": {},
     "output_type": "display_data"
    },
    {
     "data": {
      "text/plain": [
       "'Projection infinite far'"
      ]
     },
     "metadata": {},
     "output_type": "display_data"
    },
    {
     "data": {
      "text/latex": [
       "$\\displaystyle \\left[\\begin{matrix}1 & 0 & 0 & 0\\\\0 & 1 & 0 & 0\\\\0 & 0 & 1 & - 2 N\\\\0 & 0 & 1 & 0\\end{matrix}\\right]$"
      ],
      "text/plain": [
       "Matrix([\n",
       "[1, 0, 0,    0],\n",
       "[0, 1, 0,    0],\n",
       "[0, 0, 1, -2*N],\n",
       "[0, 0, 1,    0]])"
      ]
     },
     "metadata": {},
     "output_type": "display_data"
    },
    {
     "data": {
      "text/latex": [
       "$\\displaystyle \\left[\\begin{matrix}\\frac{2 fu}{W} & 0 & -1 + \\frac{2 u_{0}}{W} + \\frac{1}{W} & 0\\\\0 & \\frac{2 fv}{H} & -1 + \\frac{2 v_{0}}{H} + \\frac{1}{H} & 0\\\\0 & 0 & 1 & - 2 N\\\\0 & 0 & 1 & 0\\end{matrix}\\right]$"
      ],
      "text/plain": [
       "Matrix([\n",
       "[2*fu/W,      0, -1 + 2*u0/W + 1/W,    0],\n",
       "[     0, 2*fv/H, -1 + 2*v0/H + 1/H,    0],\n",
       "[     0,      0,                 1, -2*N],\n",
       "[     0,      0,                 1,    0]])"
      ]
     },
     "metadata": {},
     "output_type": "display_data"
    }
   ],
   "source": [
    "K = Matrix([[fu,0,u0],[0,fv,v0],[0,0,1]])\n",
    "K4 = makeK4(K)\n",
    "P4 = makePerspectiveNearFar(N,F)\n",
    "P4_inf = makePerspectiveNearFar(N,oo)\n",
    "C4 = makeClipFromPixel(W,H)\n",
    "\n",
    "display(\"K\", K4)\n",
    "display(\"Projection\", P4, C4*P4*K4)\n",
    "display(\"Projection infinite far\", P4_inf, C4*P4_inf*K4)\n"
   ]
  },
  {
   "cell_type": "markdown",
   "metadata": {},
   "source": [
    "## Verify how z value is mapped"
   ]
  },
  {
   "cell_type": "code",
   "execution_count": 6,
   "metadata": {},
   "outputs": [
    {
     "name": "stdout",
     "output_type": "stream",
     "text": [
      "For N=>F projection, Z=N maps to Z_ndc= -1\n",
      "For N=>F projection, Z=F maps to Z_ndc= 1\n",
      "For N=>F projection, Z=2*N maps to Z_ndc= (4*F/5 + N)/(F - N)\n",
      "For N=>oo projection, Z=N maps to Z_ndc= -1\n",
      "For N=>oo projection, Z=oo maps to Z_ndc= 0\n",
      "For N=>F projection, Z=2*N maps to Z_ndc= 4/5\n"
     ]
    }
   ],
   "source": [
    "def map_near_far(z_in, N, F):\n",
    "    P4 = makePerspectiveNearFar(N,F)\n",
    "    P_clip = P4 * Matrix([0,0,z_in,1])\n",
    "    return simplify(P_clip[2] / P_clip[3])\n",
    "\n",
    "def map_near_far_inf(z_in, N):\n",
    "    P4 = makePerspectiveNearFar(N,oo)\n",
    "    P_clip = P4 * Matrix([0,0,z_in,1])\n",
    "    return simplify(P_clip[2] / P_clip[3])\n",
    "\n",
    "print(\"For N=>F projection, Z=N maps to Z_ndc=\", map_near_far(N, N, F))\n",
    "print(\"For N=>F projection, Z=F maps to Z_ndc=\", map_near_far(F, N, F))\n",
    "print(\"For N=>F projection, Z=2*N maps to Z_ndc=\", map_near_far(10*N, N, F))\n",
    "\n",
    "print(\"For N=>oo projection, Z=N maps to Z_ndc=\", map_near_far_inf(N, N))\n",
    "print(\"For N=>oo projection, Z=oo maps to Z_ndc=\", map_near_far_inf(oo, N))\n",
    "print(\"For N=>F projection, Z=2*N maps to Z_ndc=\", map_near_far_inf(10*N, N))\n"
   ]
  },
  {
   "cell_type": "markdown",
   "metadata": {},
   "source": [
    "## Check Perspective"
   ]
  },
  {
   "cell_type": "code",
   "execution_count": 7,
   "metadata": {},
   "outputs": [
    {
     "data": {
      "text/latex": [
       "$\\displaystyle \\left[\\begin{matrix}-1\\\\1\\\\-1\\\\1\\end{matrix}\\right]$"
      ],
      "text/plain": [
       "Matrix([\n",
       "[-1],\n",
       "[ 1],\n",
       "[-1],\n",
       "[ 1]])"
      ]
     },
     "metadata": {},
     "output_type": "display_data"
    },
    {
     "data": {
      "text/latex": [
       "$\\displaystyle \\left[\\begin{matrix}1\\\\-1\\\\-1\\\\1\\end{matrix}\\right]$"
      ],
      "text/plain": [
       "Matrix([\n",
       "[ 1],\n",
       "[-1],\n",
       "[-1],\n",
       "[ 1]])"
      ]
     },
     "metadata": {},
     "output_type": "display_data"
    },
    {
     "data": {
      "text/latex": [
       "$\\displaystyle \\left[\\begin{matrix}1\\\\-1\\\\\\frac{1}{3}\\\\1\\end{matrix}\\right]$"
      ],
      "text/plain": [
       "Matrix([\n",
       "[  1],\n",
       "[ -1],\n",
       "[1/3],\n",
       "[  1]])"
      ]
     },
     "metadata": {},
     "output_type": "display_data"
    }
   ],
   "source": [
    "# discrete pixel convention\n",
    "K = Matrix([[fu,0,u0],[0,fv,v0],[0,0,1]])\n",
    "P = makeClipFlip() * makeClipFromPixel(W,H,false) * makePerspectiveNearFar(N,oo)\n",
    "tl = Matrix([-0.5*N,-0.5*N,N,1])\n",
    "br = Matrix([(W-0.5)*N,(H-0.5)*N,N,1])\n",
    "brz = Matrix([3*(W-0.5)*N,3*(H-0.5)*N,3*N,1])\n",
    "tl_ndc = P*tl\n",
    "br_ndc = P*br\n",
    "brz_ndc = P*brz\n",
    "\n",
    "# Make sure we can hit corners of NDC\n",
    "display(simplify(tl_ndc/tl_ndc[3]))\n",
    "display(simplify(br_ndc/br_ndc[3]))\n",
    "# Make sure depth doesn't take us of NDC edge in x and y\n",
    "display(simplify(brz_ndc/brz_ndc[3]))"
   ]
  },
  {
   "cell_type": "code",
   "execution_count": 8,
   "metadata": {},
   "outputs": [
    {
     "data": {
      "text/latex": [
       "$\\displaystyle \\left[\\begin{matrix}-1\\\\-1\\\\-1\\\\1\\end{matrix}\\right]$"
      ],
      "text/plain": [
       "Matrix([\n",
       "[-1],\n",
       "[-1],\n",
       "[-1],\n",
       "[ 1]])"
      ]
     },
     "metadata": {},
     "output_type": "display_data"
    },
    {
     "data": {
      "text/latex": [
       "$\\displaystyle \\left[\\begin{matrix}1\\\\1\\\\-1\\\\1\\end{matrix}\\right]$"
      ],
      "text/plain": [
       "Matrix([\n",
       "[ 1],\n",
       "[ 1],\n",
       "[-1],\n",
       "[ 1]])"
      ]
     },
     "metadata": {},
     "output_type": "display_data"
    }
   ],
   "source": [
    "# continuous pixel convention\n",
    "K = Matrix([[fu,0,u0],[0,fv,v0],[0,0,1]])\n",
    "P = makeClipFromPixel(W,H,true) * makePerspectiveNearFar(N,oo)\n",
    "tl = Matrix([0,0,N,1])\n",
    "br = Matrix([W*N,H*N,N,1])\n",
    "tl_ndc = P*tl\n",
    "br_ndc = P*br\n",
    "# Make sure we can hit corners of NDC\n",
    "display(simplify(tl_ndc/tl_ndc[3]))\n",
    "display(simplify(br_ndc/br_ndc[3]))"
   ]
  },
  {
   "cell_type": "markdown",
   "metadata": {},
   "source": [
    "## Check Ortho"
   ]
  },
  {
   "cell_type": "code",
   "execution_count": 34,
   "metadata": {},
   "outputs": [
    {
     "data": {
      "text/latex": [
       "$\\displaystyle \\left[\\begin{matrix}0\\\\0\\\\-1\\\\1\\end{matrix}\\right]$"
      ],
      "text/plain": [
       "Matrix([\n",
       "[ 0],\n",
       "[ 0],\n",
       "[-1],\n",
       "[ 1]])"
      ]
     },
     "metadata": {},
     "output_type": "display_data"
    },
    {
     "data": {
      "text/latex": [
       "$\\displaystyle \\left[\\begin{matrix}5\\\\5\\\\-1\\\\1\\end{matrix}\\right]$"
      ],
      "text/plain": [
       "Matrix([\n",
       "[ 5],\n",
       "[ 5],\n",
       "[-1],\n",
       "[ 1]])"
      ]
     },
     "metadata": {},
     "output_type": "display_data"
    },
    {
     "data": {
      "text/latex": [
       "$\\displaystyle \\left[\\begin{matrix}5\\\\5\\\\-1\\\\1\\end{matrix}\\right]$"
      ],
      "text/plain": [
       "Matrix([\n",
       "[ 5],\n",
       "[ 5],\n",
       "[-1],\n",
       "[ 1]])"
      ]
     },
     "metadata": {},
     "output_type": "display_data"
    }
   ],
   "source": [
    "P = makeOrthoNearFar(N,F)\n",
    "\n",
    "a = Matrix([0,0,N,1])\n",
    "b = Matrix([5,5,N,1])\n",
    "c = Matrix([5,5,2*N,1])\n",
    "\n",
    "a_ndc = P*a\n",
    "b_ndc = P*b\n",
    "c_ndc = P*c\n",
    "\n",
    "display(simplify(a_ndc/a_ndc[3]))\n",
    "display(simplify(b_ndc/b_ndc[3]))\n",
    "display(simplify(c_ndc/c_ndc[3]))"
   ]
  },
  {
   "cell_type": "code",
   "execution_count": 38,
   "metadata": {},
   "outputs": [
    {
     "data": {
      "text/latex": [
       "$\\displaystyle \\left[\\begin{matrix}\\frac{2 fu}{W} & 0 & -1 + \\frac{2 u_{0}}{W} & 0\\\\0 & \\frac{2 fv}{H} & -1 + \\frac{2 v_{0}}{H} & 0\\\\0 & 0 & 1 & - 2 N\\\\0 & 0 & 1 & 0\\end{matrix}\\right]$"
      ],
      "text/plain": [
       "Matrix([\n",
       "[2*fu/W,      0, -1 + 2*u0/W,    0],\n",
       "[     0, 2*fv/H, -1 + 2*v0/H,    0],\n",
       "[     0,      0,           1, -2*N],\n",
       "[     0,      0,           1,    0]])"
      ]
     },
     "execution_count": 38,
     "metadata": {},
     "output_type": "execute_result"
    }
   ],
   "source": [
    "makeClipFromPixel(W,H,true) * makePerspectiveNearFar(N,oo) * makeK4(K)"
   ]
  },
  {
   "cell_type": "code",
   "execution_count": 39,
   "metadata": {},
   "outputs": [
    {
     "data": {
      "text/latex": [
       "$\\displaystyle \\left[\\begin{matrix}\\frac{2 fu}{W} & 0 & -1 + \\frac{2 u_{0}}{W} & - \\frac{4 N u_{0}}{W}\\\\0 & \\frac{2 fv}{H} & -1 + \\frac{2 v_{0}}{H} & - \\frac{4 N v_{0}}{H}\\\\0 & 0 & 1 & - 2 N\\\\0 & 0 & 1 & 0\\end{matrix}\\right]$"
      ],
      "text/plain": [
       "Matrix([\n",
       "[2*fu/W,      0, -1 + 2*u0/W, -4*N*u0/W],\n",
       "[     0, 2*fv/H, -1 + 2*v0/H, -4*N*v0/H],\n",
       "[     0,      0,           1,      -2*N],\n",
       "[     0,      0,           1,         0]])"
      ]
     },
     "execution_count": 39,
     "metadata": {},
     "output_type": "execute_result"
    }
   ],
   "source": [
    "makeClipFromPixel(W,H,true) * makeK4(K) * makePerspectiveNearFar(N,oo)"
   ]
  },
  {
   "cell_type": "code",
   "execution_count": null,
   "metadata": {},
   "outputs": [],
   "source": []
  }
 ],
 "metadata": {
  "kernelspec": {
   "display_name": "Python 3.10.8 64-bit",
   "language": "python",
   "name": "python3"
  },
  "language_info": {
   "codemirror_mode": {
    "name": "ipython",
    "version": 3
   },
   "file_extension": ".py",
   "mimetype": "text/x-python",
   "name": "python",
   "nbconvert_exporter": "python",
   "pygments_lexer": "ipython3",
   "version": "3.10.8"
  },
  "orig_nbformat": 4,
  "vscode": {
   "interpreter": {
    "hash": "b0fa6594d8f4cbf19f97940f81e996739fb7646882a419484c72d19e05852a7e"
   }
  }
 },
 "nbformat": 4,
 "nbformat_minor": 2
}
